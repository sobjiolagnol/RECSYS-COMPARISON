{
 "cells": [
  {
   "cell_type": "markdown",
   "metadata": {
    "cell_marker": "\"\"\""
   },
   "source": [
    "# Test\n",
    "\n",
    "> Ce fichier permet de tester les différentes fonctions implémentées et vérifier qu'elles fonctionnent correctement"
   ]
  },
  {
   "cell_type": "markdown",
   "metadata": {
    "cell_marker": "\"\"\""
   },
   "source": [
    "Charger les bibliothèques et les données"
   ]
  },
  {
   "cell_type": "code",
   "execution_count": 14,
   "metadata": {},
   "outputs": [
    {
     "data": {
      "application/javascript": "IPython.notebook.set_autosave_interval(0)"
     },
     "metadata": {},
     "output_type": "display_data"
    },
    {
     "name": "stdout",
     "output_type": "stream",
     "text": [
      "Autosave disabled\n"
     ]
    }
   ],
   "source": [
    "%autosave 0\n",
    "%reload_ext autoreload\n",
    "%autoreload 2"
   ]
  },
  {
   "cell_type": "code",
   "execution_count": 15,
   "metadata": {},
   "outputs": [],
   "source": [
    "\n",
    "from data import *\n",
    "import popularity\n",
    "import knn\n",
    "import svd\n",
    "import knn_item_based\n",
    "import als\n",
    "from svd import *\n",
    "from time import time\n",
    "import pandas as pd"
   ]
  },
  {
   "cell_type": "markdown",
   "metadata": {
    "cell_marker": "\"\"\""
   },
   "source": [
    "# load_data"
   ]
  },
  {
   "cell_type": "code",
   "execution_count": 16,
   "metadata": {},
   "outputs": [
    {
     "name": "stdout",
     "output_type": "stream",
     "text": [
      "Toy Story (1995)\n",
      "['Toy Story (1995)', 'GoldenEye (1995)', 'Four Rooms (1995)', 'Get Shorty (1995)']\n"
     ]
    }
   ],
   "source": [
    "from data import *\n",
    "\n",
    "M = load_data(tiny=True)\n",
    "\n",
    "assert M.shape == (50,40)\n",
    "assert np.sum(~np.isnan(M)) == 389\n",
    "print(movie_title(0))\n",
    "print(movie_title(np.arange(4)))"
   ]
  },
  {
   "cell_type": "markdown",
   "metadata": {
    "cell_marker": "\"\"\""
   },
   "source": [
    "# popularity"
   ]
  },
  {
   "cell_type": "code",
   "execution_count": 17,
   "metadata": {
    "lines_to_next_cell": 2
   },
   "outputs": [
    {
     "name": "stdout",
     "output_type": "stream",
     "text": [
      "[3.43589744 3.5        4.         3.57142857 3.42857143 4.25\n",
      " 3.66666667 4.5        4.16666667 3.5        5.         3.08\n",
      " 4.         2.44444444 4.57142857 3.5        4.125      4.5\n",
      " 3.5        4.16666667 3.5        3.875      4.66666667 4.33333333\n",
      " 3.25       4.         4.         5.         3.5        5.\n",
      " 3.5        4.2        4.75       3.66666667 4.14285714 4.06666667\n",
      " 3.63636364 3.85714286 4.         2.         2.5        3.\n",
      " 5.         3.75       3.25       4.         4.         3.85714286\n",
      " 4.1        4.23809524]\n",
      "6\n",
      "Twelve Monkeys (1995)\n",
      "6\n",
      "Twelve Monkeys (1995)\n"
     ]
    },
    {
     "name": "stderr",
     "output_type": "stream",
     "text": [
      "c:\\Users\\SobjioLagnol(Externa\\OneDrive - Majorel\\Bureau\\SystRecomandation\\popularity.py:9: RuntimeWarning: Mean of empty slice\n",
      "  scores = np.nanmean(M_train, axis=0)  # Vecteur contenant la moyenne des notes par film\n",
      "c:\\Users\\SobjioLagnol(Externa\\OneDrive - Majorel\\Bureau\\SystRecomandation\\popularity.py:9: RuntimeWarning: Mean of empty slice\n",
      "  scores = np.nanmean(M_train, axis=0)  # Vecteur contenant la moyenne des notes par film\n",
      "c:\\Users\\SobjioLagnol(Externa\\OneDrive - Majorel\\Bureau\\SystRecomandation\\popularity.py:43: RuntimeWarning: Mean of empty slice\n",
      "  scores = np.nanmean(M_train, axis=0)  # Vecteur contenant la moyenne des notes de chaque film\n"
     ]
    }
   ],
   "source": [
    "from data import *\n",
    "import popularity\n",
    "\n",
    "M = load_data(tiny=True)\n",
    "\n",
    "# note moyenne par film\n",
    "print(np.nanmean(M, axis=1))\n",
    "\n",
    "# utilisateur pris au hasard\n",
    "rec = popularity.recommend(M, 3, new=True)\n",
    "print(rec)\n",
    "print(movie_title(rec))\n",
    "assert np.isnan(M[3, rec])\n",
    "\n",
    "# utilisateur ayant déjà vu le film le plus populaire\n",
    "rec = popularity.recommend(M, 5, new=True)\n",
    "print(rec)\n",
    "print(movie_title(rec))\n",
    "assert np.isnan(M[5, rec])\n",
    "\n",
    "# complétion de toute la matrice\n",
    "M_completed = popularity.complete(M)\n",
    "assert np.all(~np.isnan(M_completed))\n",
    "assert np.all(M_completed[~np.isnan(M)] == M[~np.isnan(M)])"
   ]
  },
  {
   "cell_type": "markdown",
   "metadata": {
    "cell_marker": "\"\"\""
   },
   "source": [
    "# knn"
   ]
  },
  {
   "cell_type": "code",
   "execution_count": 18,
   "metadata": {},
   "outputs": [
    {
     "name": "stdout",
     "output_type": "stream",
     "text": [
      "6\n",
      "Twelve Monkeys (1995)\n"
     ]
    }
   ],
   "source": [
    "from data import *\n",
    "import knn\n",
    "\n",
    "M = load_data(tiny=True)\n",
    "\n",
    "# utilisateur pris au hasard\n",
    "rec = knn.recommend(M, 3, new=True, k=10)\n",
    "print(rec)\n",
    "print(movie_title(rec))\n",
    "assert np.isnan(M[3, rec])\n",
    "\n",
    "\n",
    "# complétion de toute la matrice\n",
    "M_completed = knn.complete(M, k=10)\n",
    "assert np.all(~np.isnan(M_completed))"
   ]
  },
  {
   "cell_type": "markdown",
   "metadata": {
    "cell_marker": "\"\"\""
   },
   "source": [
    "# svd"
   ]
  },
  {
   "cell_type": "code",
   "execution_count": 19,
   "metadata": {
    "lines_to_next_cell": 2
   },
   "outputs": [
    {
     "name": "stdout",
     "output_type": "stream",
     "text": [
      "4\n",
      "Copycat (1995)\n"
     ]
    },
    {
     "data": {
      "image/png": "[encoded data removed]",
      "text/plain": [
       "<Figure size 640x480 with 1 Axes>"
      ]
     },
     "metadata": {},
     "output_type": "display_data"
    }
   ],
   "source": [
    "from data import *\n",
    "import svd\n",
    "from eval import *\n",
    "import matplotlib.pyplot as plt\n",
    "\n",
    "M = load_data(tiny=True)\n",
    "\n",
    "# utilisateur pris au hasard\n",
    "rec = svd.recommend(M, 3, new=True, k=10)\n",
    "print(rec)\n",
    "print(movie_title(rec))\n",
    "assert np.isnan(M[3, rec])\n",
    "\n",
    "# complétion de toute la matrice\n",
    "M_completed = svd.complete(M, k=10)\n",
    "assert np.all(~np.isnan(M_completed))\n",
    "\n",
    "# erreur (d'entrainement) diminue quand k augmente\n",
    "err = [RMSE(svd.complete(M, k), M) for k in range(1,40)]\n",
    "\n",
    "plt.plot(err)\n",
    "plt.grid()\n",
    "\n",
    "# erreur (d'entrainement) nulle pour k=min(dim())\n",
    "M_completed = svd.complete(M, k=min(M.shape[0], M.shape[1]))\n",
    "\n",
    "\n",
    "\n",
    "assert RMSE(M_completed, M) < 10**-6"
   ]
  },
  {
   "cell_type": "markdown",
   "metadata": {},
   "source": [
    "# Imputaion par la moyenne"
   ]
  },
  {
   "cell_type": "code",
   "execution_count": 20,
   "metadata": {},
   "outputs": [
    {
     "name": "stderr",
     "output_type": "stream",
     "text": [
      "c:\\Users\\SobjioLagnol(Externa\\OneDrive - Majorel\\Bureau\\SystRecomandation\\svd.py:21: RuntimeWarning: Mean of empty slice\n",
      "  col_mean = np.nanmean(M_train, axis=0)\n"
     ]
    },
    {
     "data": {
      "image/png": "[encoded data removed]",
      "text/plain": [
       "<Figure size 640x480 with 1 Axes>"
      ]
     },
     "metadata": {},
     "output_type": "display_data"
    }
   ],
   "source": [
    "from svd import *\n",
    "# complétion de toute la matrice\n",
    "M_completed = svd.complete(M, k=10,replaceNA_fn=replaceNA_with_mean)\n",
    "assert np.all(~np.isnan(M_completed))\n",
    "\n",
    "# erreur (d'entrainement) diminue quand k augmente\n",
    "err = [RMSE(svd.complete(M, k,replaceNA_fn=replaceNA_with_mean), M) for k in range(1,40)]\n",
    "\n",
    "plt.plot(err)\n",
    "plt.grid()\n",
    "\n",
    "# erreur (d'entrainement) nulle pour k=min(dim())\n",
    "M_completed = svd.complete(M, k=min(M.shape[0], M.shape[1]),replaceNA_fn=replaceNA_with_mean)\n",
    "\n",
    "\n",
    "\n",
    "assert RMSE(M_completed, M) < 10**-6"
   ]
  },
  {
   "cell_type": "markdown",
   "metadata": {
    "cell_marker": "\"\"\"",
    "lines_to_next_cell": 2
   },
   "source": [
    "# ALS"
   ]
  },
  {
   "cell_type": "code",
   "execution_count": 21,
   "metadata": {
    "lines_to_next_cell": 2
   },
   "outputs": [
    {
     "name": "stdout",
     "output_type": "stream",
     "text": [
      "32\n",
      "Desperado (1995)\n"
     ]
    }
   ],
   "source": [
    "from data import *\n",
    "import als\n",
    "from eval import *\n",
    "import matplotlib.pyplot as plt\n",
    "\n",
    "M = load_data(tiny=True)\n",
    "\n",
    "# utilisateur pris au hasard\n",
    "rec = als.recommend(M, 3, new=True, k=10)\n",
    "print(rec)\n",
    "print(movie_title(rec))\n",
    "assert np.isnan(M[3, rec])\n",
    "\n",
    "# complétion de toute la matrice\n",
    "M_completed = als.complete(M, k=10)\n",
    "assert np.all(~np.isnan(M_completed))\n"
   ]
  },
  {
   "cell_type": "markdown",
   "metadata": {
    "cell_marker": "\"\"\""
   },
   "source": [
    "# erreur (d'entrainement) diminue quand k augmente"
   ]
  },
  {
   "cell_type": "code",
   "execution_count": 22,
   "metadata": {},
   "outputs": [
    {
     "name": "stdout",
     "output_type": "stream",
     "text": [
      "[3.94336512825079, 0.8171832594779117, 0.6492414047047315, 0.5784746175411927, 0.43266711164675414, 0.36356344841392957, 0.2426142013306938, 0.17554463846358406, 0.10342223918414573, 0.07805635355545798, 0.03632565065990828, 0.025488569232274192, 0.027374890321679463, 0.022441231759720057, 0.023545349610673026, 0.02261943093273693, 0.023305814646144084, 0.02268121774015757, 0.023285431567951237, 0.022971854055659293, 0.024249350277064947, 0.024449517971139482, 0.025299038825366396, 0.02672626326777879, 0.027420269606090487, 0.02687778164316728, 0.02903180640738947, 0.029529023354294876, 0.029132505023598095, 0.02961639112667174, 0.030100111650207644, 0.02966957390807061, 0.030437165261389197, 0.03306541622235287, 0.03257095873040203, 0.03374285532547397, 0.03314955354240692, 0.0327772244165198, 0.03477369706081679, 0.03580404850160647]\n"
     ]
    },
    {
     "data": {
      "image/png": "[encoded data removed]",
      "text/plain": [
       "<Figure size 640x480 with 1 Axes>"
      ]
     },
     "metadata": {},
     "output_type": "display_data"
    }
   ],
   "source": [
    "err = [RMSE(als.complete(M, k, n_iter=5), M) for k in range(40)]\n",
    "\n",
    "print(err)\n",
    "plt.plot(err)\n",
    "plt.grid()"
   ]
  },
  {
   "cell_type": "markdown",
   "metadata": {
    "cell_marker": "\"\"\""
   },
   "source": [
    "# erreur (d'entrainement) diminue quand nombre d'itérations augmente"
   ]
  },
  {
   "cell_type": "code",
   "execution_count": 23,
   "metadata": {},
   "outputs": [
    {
     "name": "stdout",
     "output_type": "stream",
     "text": [
      "[3.94336512825079, 0.8109661423690883, 0.6627094921265866, 0.49625060599022863, 0.3931800884002009, 0.24830468142179296, 0.16164527479246135, 0.09338110135994844, 0.05410624761346421, 0.04027624307045451, 0.025760085865039563, 0.02384224475671476, 0.02259360376302227, 0.02223730381518074, 0.022041924152257565, 0.021208300277561962, 0.022254642175157213, 0.022813176450002894, 0.0226961974783647, 0.022893551165062993, 0.022922706698237327, 0.023167447159645537, 0.02388949379578488, 0.023594797316178195, 0.023861539068768634, 0.024364085831845576, 0.023928503345953936, 0.02421281099961179, 0.025239977547125394, 0.02501899549426545, 0.025056939007215697, 0.02499057657231923, 0.026138681139748668, 0.026143366701712942, 0.025406526625488982, 0.025631763050135866, 0.026589399046509574, 0.02624090736012355, 0.027078927149005793, 0.027192073625967643]\n"
     ]
    },
    {
     "data": {
      "image/png": "[encoded data removed]",
      "text/plain": [
       "<Figure size 640x480 with 1 Axes>"
      ]
     },
     "metadata": {},
     "output_type": "display_data"
    }
   ],
   "source": [
    "err20 = [RMSE(als.complete(M, k, n_iter=20), M) for k in range(40)]\n",
    "\n",
    "print(err20)\n",
    "plt.plot(err,  color='blue', label='5 iterations')\n",
    "plt.plot(err20,  color='red', label='20 iterations')\n",
    "plt.legend()\n",
    "plt.grid()"
   ]
  },
  {
   "cell_type": "markdown",
   "metadata": {
    "cell_marker": "\"\"\""
   },
   "source": [
    "# erreur (d'entrainement) nulle pour k=min(dim()) et lambda très petit"
   ]
  },
  {
   "cell_type": "code",
   "execution_count": 24,
   "metadata": {},
   "outputs": [],
   "source": [
    "M_completed = als.complete(M, k=min(M.shape[0], M.shape[1]), n_iter=1, lambd=10**-8)\n",
    "RMSE(M_completed, M)\n",
    "M_completed = als.complete(M, k=min(M.shape[0], M.shape[1]), n_iter=3, lambd=10**-8)\n",
    "RMSE(M_completed, M)\n",
    "M_completed = als.complete(M, k=min(M.shape[0], M.shape[1]), n_iter=10, lambd=10**-8)\n",
    "RMSE(M_completed, M)\n",
    "assert RMSE(M_completed, M) <10**-6\n",
    "\n",
    "\n",
    "\n",
    "\n",
    "\n"
   ]
  },
  {
   "cell_type": "markdown",
   "metadata": {
    "cell_marker": "\"\"\"",
    "lines_to_next_cell": 2
   },
   "source": [
    "# eval"
   ]
  },
  {
   "cell_type": "code",
   "execution_count": 25,
   "metadata": {},
   "outputs": [],
   "source": [
    "from data import *\n",
    "from eval import *\n",
    "import popularity\n",
    "import knn\n",
    "import svd\n",
    "\n",
    "M = load_data(tiny=True)"
   ]
  },
  {
   "cell_type": "markdown",
   "metadata": {
    "cell_marker": "\"\"\""
   },
   "source": [
    "# get_train"
   ]
  },
  {
   "cell_type": "code",
   "execution_count": 26,
   "metadata": {},
   "outputs": [],
   "source": [
    "M_train, M_validation = get_train_val(M, 0.9)\n",
    "assert np.all(np.sum(np.isnan(M_train), axis=0))"
   ]
  },
  {
   "cell_type": "markdown",
   "metadata": {
    "cell_marker": "\"\"\""
   },
   "source": [
    "# RMSE"
   ]
  },
  {
   "cell_type": "code",
   "execution_count": 27,
   "metadata": {},
   "outputs": [
    {
     "name": "stdout",
     "output_type": "stream",
     "text": [
      "[nan  5.  3.  4.]\n"
     ]
    }
   ],
   "source": [
    "print(M[0, :4])\n",
    "assert np.sum(~np.isnan(M)) == 389\n",
    "M_comp = M.copy()\n",
    "M_comp[0, :4] = 0\n",
    "assert RMSE(M_comp, M) == np.sqrt((5**2 + 3**2 + 4**2)/389)"
   ]
  },
  {
   "cell_type": "markdown",
   "metadata": {
    "cell_marker": "\"\"\""
   },
   "source": [
    "# quantitative_comparison"
   ]
  },
  {
   "cell_type": "code",
   "execution_count": 34,
   "metadata": {
    "lines_to_next_cell": 2
   },
   "outputs": [
    {
     "name": "stderr",
     "output_type": "stream",
     "text": [
      "c:\\Users\\SobjioLagnol(Externa\\OneDrive - Majorel\\Bureau\\SystRecomandation\\popularity.py:43: RuntimeWarning: Mean of empty slice\n",
      "  scores = np.nanmean(M_train, axis=0)  # Vecteur contenant la moyenne des notes de chaque film\n",
      "c:\\Users\\SobjioLagnol(Externa\\OneDrive - Majorel\\Bureau\\SystRecomandation\\svd.py:21: RuntimeWarning: Mean of empty slice\n",
      "  col_mean = np.nanmean(M_train, axis=0)\n"
     ]
    },
    {
     "data": {
      "text/html": [
       "<div>\n",
       "<style scoped>\n",
       "    .dataframe tbody tr th:only-of-type {\n",
       "        vertical-align: middle;\n",
       "    }\n",
       "\n",
       "    .dataframe tbody tr th {\n",
       "        vertical-align: top;\n",
       "    }\n",
       "\n",
       "    .dataframe thead th {\n",
       "        text-align: right;\n",
       "    }\n",
       "</style>\n",
       "<table border=\"1\" class=\"dataframe\">\n",
       "  <thead>\n",
       "    <tr style=\"text-align: right;\">\n",
       "      <th></th>\n",
       "      <th>recommender</th>\n",
       "      <th>validation score</th>\n",
       "      <th>training score</th>\n",
       "      <th>computation time</th>\n",
       "    </tr>\n",
       "  </thead>\n",
       "  <tbody>\n",
       "    <tr>\n",
       "      <th>0</th>\n",
       "      <td>popularity</td>\n",
       "      <td>1.078573</td>\n",
       "      <td>0.000000</td>\n",
       "      <td>0.000267</td>\n",
       "    </tr>\n",
       "    <tr>\n",
       "      <th>1</th>\n",
       "      <td>knn10</td>\n",
       "      <td>0.000000</td>\n",
       "      <td>0.000000</td>\n",
       "      <td>1.016566</td>\n",
       "    </tr>\n",
       "    <tr>\n",
       "      <th>2</th>\n",
       "      <td>svd2</td>\n",
       "      <td>2.239847</td>\n",
       "      <td>2.165071</td>\n",
       "      <td>0.000951</td>\n",
       "    </tr>\n",
       "    <tr>\n",
       "      <th>3</th>\n",
       "      <td>svd_mean2</td>\n",
       "      <td>1.076287</td>\n",
       "      <td>0.313367</td>\n",
       "      <td>0.002371</td>\n",
       "    </tr>\n",
       "    <tr>\n",
       "      <th>4</th>\n",
       "      <td>als21</td>\n",
       "      <td>0.024353</td>\n",
       "      <td>1.468295</td>\n",
       "      <td>0.108861</td>\n",
       "    </tr>\n",
       "    <tr>\n",
       "      <th>5</th>\n",
       "      <td>knn_item_based29</td>\n",
       "      <td>0.000000</td>\n",
       "      <td>1.309946</td>\n",
       "      <td>0.707434</td>\n",
       "    </tr>\n",
       "  </tbody>\n",
       "</table>\n",
       "</div>"
      ],
      "text/plain": [
       "        recommender  validation score  training score  computation time\n",
       "0        popularity          1.078573        0.000000          0.000267\n",
       "1             knn10          0.000000        0.000000          1.016566\n",
       "2              svd2          2.239847        2.165071          0.000951\n",
       "3         svd_mean2          1.076287        0.313367          0.002371\n",
       "4             als21          0.024353        1.468295          0.108861\n",
       "5  knn_item_based29          0.000000        1.309946          0.707434"
      ]
     },
     "execution_count": 34,
     "metadata": {},
     "output_type": "execute_result"
    }
   ],
   "source": [
    "recommenders = [\n",
    "    {\"fn\": popularity.complete, \"label\": \"popularity\"},\n",
    "    {\"fn\": lambda M_train: knn.complete(M, k=10), \"label\": \"knn10\"},\n",
    "    {\"fn\": lambda M_train: svd.complete(M, 2), \"label\": \"svd2\"},\n",
    "    {\"fn\": lambda M_train: svd.complete(M_train, k=2,replaceNA_fn=replaceNA_with_mean), \"label\": \"svd_mean2\"},\n",
    "    {\"fn\": lambda M_train: als.complete(M, 21), \"label\": \"als21\"},\n",
    "    {\"fn\": lambda M_train: knn_item_based.complete_item_based(M, 29), \"label\": \"knn_item_based29\"}\n",
    "    ]\n",
    "\n",
    "\n",
    "quantitative_comparison(RMSE, M, recommenders, prop=0.8, nrep=10)\n",
    "\n",
    "\n"
   ]
  }
 ],
 "metadata": {
  "jupytext": {
   "cell_markers": "\"\"\"",
   "encoding": "# -*- coding: utf-8 -*-",
   "formats": "ipynb,py:percent"
  },
  "kernelspec": {
   "display_name": "monenv",
   "language": "python",
   "name": "python3"
  },
  "language_info": {
   "codemirror_mode": {
    "name": "ipython",
    "version": 3
   },
   "file_extension": ".py",
   "mimetype": "text/x-python",
   "name": "python",
   "nbconvert_exporter": "python",
   "pygments_lexer": "ipython3",
   "version": "3.8.8"
  }
 },
 "nbformat": 4,
 "nbformat_minor": 4
}
