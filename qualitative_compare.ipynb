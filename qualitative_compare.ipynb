{
 "cells": [
  {
   "cell_type": "markdown",
   "metadata": {
    "cell_marker": "\"\"\""
   },
   "source": [
    "# Évaluation qualitative\n",
    "> Comparons qualitativement les différents algorithmes en terme de qualité de prédiction"
   ]
  },
  {
   "cell_type": "markdown",
   "metadata": {
    "cell_marker": "\"\"\""
   },
   "source": [
    "Charger les bibliothèques et les données"
   ]
  },
  {
   "cell_type": "code",
   "execution_count": 1,
   "metadata": {},
   "outputs": [
    {
     "data": {
      "application/javascript": "IPython.notebook.set_autosave_interval(0)"
     },
     "metadata": {},
     "output_type": "display_data"
    },
    {
     "name": "stdout",
     "output_type": "stream",
     "text": [
      "Autosave disabled\n"
     ]
    }
   ],
   "source": [
    "%autosave 0\n",
    "%reload_ext autoreload\n",
    "%autoreload 2\n",
    "\n",
    "from data import *\n",
    "import popularity\n",
    "import knn\n",
    "import svd\n",
    "import knn_item_based\n",
    "import als\n",
    "from svd import *\n",
    "from time import time\n",
    "import pandas as pd"
   ]
  },
  {
   "cell_type": "code",
   "execution_count": 2,
   "metadata": {},
   "outputs": [],
   "source": [
    "M = load_data(tiny=True)"
   ]
  },
  {
   "cell_type": "markdown",
   "metadata": {
    "cell_marker": "\"\"\"",
    "lines_to_next_cell": 2
   },
   "source": [
    "Liste d'algorithmes à comparer"
   ]
  },
  {
   "cell_type": "code",
   "execution_count": 3,
   "metadata": {},
   "outputs": [],
   "source": [
    "recommenders = [\n",
    "    {\"fn\": lambda M_train, id_user: popularity.recommend(M_train, id_user, new=True), \"label\": \"popularity\"},\n",
    "    {\"fn\": lambda M_train, id_user: knn.recommend(M_train, id_user, k=16, new=True), \"label\": \"knn16\"},\n",
    "    {\"fn\": lambda M_train, id_user: knn.recommend(M_train, id_user, k=10, new=True), \"label\": \"knn10\"},\n",
    "    {\"fn\": lambda M_train, id_user: svd.recommend(M_train, id_user, k=10, new=True), \"label\": \"svd10\"},\n",
    "    {\"fn\": lambda M_train, id_user: svd.recommend(M_train, id_user, k=3, new=True), \"label\": \"svd3\"},\n",
    "    {\"fn\": lambda M_train,id_user: als.recommend(M_train, id_user, new=True, k=21, n_iter=5, lambd=0.1), \"label\": \"als21\"},\n",
    "    {\"fn\": lambda M_train,id_user: knn_item_based.recommend_item_based(M_train, id_user, new=True, k=29), \"label\": \"knn_item_based29\"}\n",
    "   \n",
    "    ]"
   ]
  },
  {
   "cell_type": "markdown",
   "metadata": {
    "cell_marker": "\"\"\"",
    "lines_to_next_cell": 1
   },
   "source": [
    "Comparaison"
   ]
  },
  {
   "cell_type": "code",
   "execution_count": 4,
   "metadata": {
    "lines_to_next_cell": 1
   },
   "outputs": [],
   "source": [
    "# def qualitative_comparaison(M_train, user_id, recommenders):\n",
    "#     # utilisateur\n",
    "#     print('-- user rates --')\n",
    "#     movies_id = np.where(~np.isnan(M_train[user_id, :]))[0]\n",
    "#     print(pd.DataFrame({\"movie\": movie_title(movies_id),\n",
    "#                         \"rate\": M_train[user_id, movies_id]}))\n",
    "#     print()\n",
    "\n",
    "#     # recommandations\n",
    "#     print('-- recommendations --')\n",
    "#     rec = np.zeros(len(recommenders), dtype=object)\n",
    "#     computation_time = np.zeros(len(recommenders))\n",
    "#     for id_rec in range(len(recommenders)):\n",
    "#         ptm = time()\n",
    "#         rec[id_rec] = recommenders[id_rec]['fn'](M_train, user_id)\n",
    "#         computation_time[id_rec] = (time() - ptm)\n",
    "\n",
    "#     print(pd.DataFrame({\n",
    "#         \"algo\": [rec['label'] for rec in recommenders],\n",
    "#         \"recommendation\": movie_title(rec),\n",
    "#         \"computation.time\": computation_time\n",
    "#         }))"
   ]
  },
  {
   "cell_type": "code",
   "execution_count": 5,
   "metadata": {},
   "outputs": [],
   "source": [
    "\n",
    "def qualitative_comparaison(M_train, user_id, recommenders):\n",
    "    # utilisateur\n",
    "    movies_id = np.where(~np.isnan(M_train[user_id, :]))[0]\n",
    "    user_ratings_df = pd.DataFrame({\n",
    "        \"movie\": movie_title(movies_id),\n",
    "        \"rate\": M_train[user_id, movies_id]\n",
    "    })\n",
    "\n",
    "    # recommandations\n",
    "    rec = np.zeros(len(recommenders), dtype=object)\n",
    "    computation_time = np.zeros(len(recommenders))\n",
    "    for id_rec in range(len(recommenders)):\n",
    "        ptm = time()\n",
    "        rec[id_rec] = recommenders[id_rec]['fn'](M_train, user_id)\n",
    "        computation_time[id_rec] = (time() - ptm)\n",
    "\n",
    "    recommendations_df = pd.DataFrame({\n",
    "        \"algo\": [rec_dict['label'] for rec_dict in recommenders],\n",
    "        \"recommendation\": movie_title(rec),\n",
    "        \"computation.time\": computation_time\n",
    "    })\n",
    "\n",
    "    return user_ratings_df, recommendations_df\n"
   ]
  },
  {
   "cell_type": "code",
   "execution_count": 6,
   "metadata": {},
   "outputs": [
    {
     "name": "stderr",
     "output_type": "stream",
     "text": [
      "c:\\Users\\SobjioLagnol(Externa\\OneDrive - Majorel\\Bureau\\SystRecomandation\\popularity.py:9: RuntimeWarning: Mean of empty slice\n",
      "  scores = np.nanmean(M_train, axis=0)  # Vecteur contenant la moyenne des notes par film\n"
     ]
    }
   ],
   "source": [
    "user_df, rec_df = qualitative_comparaison(M, 2, recommenders)"
   ]
  },
  {
   "cell_type": "code",
   "execution_count": 7,
   "metadata": {},
   "outputs": [
    {
     "data": {
      "text/html": [
       "<div>\n",
       "<style scoped>\n",
       "    .dataframe tbody tr th:only-of-type {\n",
       "        vertical-align: middle;\n",
       "    }\n",
       "\n",
       "    .dataframe tbody tr th {\n",
       "        vertical-align: top;\n",
       "    }\n",
       "\n",
       "    .dataframe thead th {\n",
       "        text-align: right;\n",
       "    }\n",
       "</style>\n",
       "<table border=\"1\" class=\"dataframe\">\n",
       "  <thead>\n",
       "    <tr style=\"text-align: right;\">\n",
       "      <th></th>\n",
       "      <th>algo</th>\n",
       "      <th>recommendation</th>\n",
       "      <th>computation.time</th>\n",
       "    </tr>\n",
       "  </thead>\n",
       "  <tbody>\n",
       "    <tr>\n",
       "      <th>0</th>\n",
       "      <td>popularity</td>\n",
       "      <td>Twelve Monkeys (1995)</td>\n",
       "      <td>0.000000</td>\n",
       "    </tr>\n",
       "    <tr>\n",
       "      <th>1</th>\n",
       "      <td>knn16</td>\n",
       "      <td>Twelve Monkeys (1995)</td>\n",
       "      <td>0.033165</td>\n",
       "    </tr>\n",
       "    <tr>\n",
       "      <th>2</th>\n",
       "      <td>knn10</td>\n",
       "      <td>Twelve Monkeys (1995)</td>\n",
       "      <td>0.023529</td>\n",
       "    </tr>\n",
       "    <tr>\n",
       "      <th>3</th>\n",
       "      <td>svd10</td>\n",
       "      <td>Mighty Aphrodite (1995)</td>\n",
       "      <td>0.009828</td>\n",
       "    </tr>\n",
       "    <tr>\n",
       "      <th>4</th>\n",
       "      <td>svd3</td>\n",
       "      <td>Babe (1995)</td>\n",
       "      <td>0.000000</td>\n",
       "    </tr>\n",
       "    <tr>\n",
       "      <th>5</th>\n",
       "      <td>als21</td>\n",
       "      <td>Mighty Aphrodite (1995)</td>\n",
       "      <td>0.133627</td>\n",
       "    </tr>\n",
       "    <tr>\n",
       "      <th>6</th>\n",
       "      <td>knn_item_based29</td>\n",
       "      <td>Toy Story (1995)</td>\n",
       "      <td>0.016840</td>\n",
       "    </tr>\n",
       "  </tbody>\n",
       "</table>\n",
       "</div>"
      ],
      "text/plain": [
       "               algo           recommendation  computation.time\n",
       "0        popularity    Twelve Monkeys (1995)          0.000000\n",
       "1             knn16    Twelve Monkeys (1995)          0.033165\n",
       "2             knn10    Twelve Monkeys (1995)          0.023529\n",
       "3             svd10  Mighty Aphrodite (1995)          0.009828\n",
       "4              svd3              Babe (1995)          0.000000\n",
       "5             als21  Mighty Aphrodite (1995)          0.133627\n",
       "6  knn_item_based29         Toy Story (1995)          0.016840"
      ]
     },
     "execution_count": 7,
     "metadata": {},
     "output_type": "execute_result"
    }
   ],
   "source": [
    "rec_df.head(10)"
   ]
  }
 ],
 "metadata": {
  "jupytext": {
   "cell_markers": "\"\"\"",
   "encoding": "# -*- coding: utf-8 -*-",
   "formats": "ipynb,py:percent"
  },
  "kernelspec": {
   "display_name": "monenv",
   "language": "python",
   "name": "python3"
  },
  "language_info": {
   "codemirror_mode": {
    "name": "ipython",
    "version": 3
   },
   "file_extension": ".py",
   "mimetype": "text/x-python",
   "name": "python",
   "nbconvert_exporter": "python",
   "pygments_lexer": "ipython3",
   "version": "3.8.8"
  }
 },
 "nbformat": 4,
 "nbformat_minor": 4
}
